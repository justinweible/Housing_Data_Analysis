{
 "cells": [
  {
   "cell_type": "markdown",
   "source": [
    "## Housing Data Analysis: King County, Washington\r\n"
   ],
   "metadata": {}
  },
  {
   "cell_type": "markdown",
   "source": [
    "#### Authors: Justin Weible, Naomi Weinberger"
   ],
   "metadata": {}
  },
  {
   "cell_type": "markdown",
   "source": [
    "### Business Problem"
   ],
   "metadata": {}
  },
  {
   "cell_type": "markdown",
   "source": [
    "In order to help prospective home buyers in the Seattle area, we wanted to be able to predict the price of a house based on various characteristics, including proximity to the downtown Seattle area, year built, number of bedrooms, number of bathrooms, square footage, and the grade it was given by the King County Assessor's Office.\r\n",
    "\r\n",
    "Multiple linear regression techniques were used in order to create a working model that could accurately predict the cost of a house given those specific characteristics.\r\n"
   ],
   "metadata": {}
  },
  {
   "cell_type": "markdown",
   "source": [
    "### Dataset Understanding"
   ],
   "metadata": {}
  },
  {
   "cell_type": "markdown",
   "source": [
    "The dataset that was used came from King County, Washington, and used housing data of houses from 2014."
   ],
   "metadata": {}
  },
  {
   "cell_type": "code",
   "execution_count": null,
   "source": [
    "import pandas as pd\r\n",
    "import numpy as np\r\n",
    "import seaborn as sns\r\n",
    "import matplotlib.pyplot as plt\r\n",
    "%matplotlib inline\r\n",
    "from sklearn.linear_model import LinearRegression\r\n",
    "from sklearn.model_selection import train_test_split\r\n",
    "from statsmodels.formula.api import ols\r\n",
    "import statsmodels.api as sm\r\n",
    "from statsmodels.stats.outliers_influence import variance_inflation_factor\r\n",
    "from scipy import stats\r\n",
    "from sklearn.metrics import mean_squared_error\r\n",
    "import warnings\r\n",
    "warnings.filterwarnings('ignore')"
   ],
   "outputs": [],
   "metadata": {}
  },
  {
   "cell_type": "code",
   "execution_count": null,
   "source": [
    "df= pd.read_csv('data/kc_house_data.csv')"
   ],
   "outputs": [],
   "metadata": {}
  },
  {
   "cell_type": "code",
   "execution_count": null,
   "source": [
    "df.info()"
   ],
   "outputs": [],
   "metadata": {}
  },
  {
   "cell_type": "markdown",
   "source": [
    "### Data Cleaning"
   ],
   "metadata": {}
  },
  {
   "cell_type": "markdown",
   "source": [
    "Before creating our linear regression model, we wanted to remove columns that we didn't think were going to be relevant when analyzing the cost of a house. We eliminated all columns except 'price','sqft_living','bedrooms','bathrooms','floors','grade','condition','yr_built','yr_renovated',and 'waterfront'. \r\n",
    "\r\n",
    "A new column labeled 'distance\" was created, which used a geopy function to use the columns 'lat' and 'long' in order to determine the location of a house based on its distance from downtown. The resulting distance was then converted into miles.\r\n",
    "\r\n",
    "We coverted 'yr_renovated' into a column labeled 'renovated' that would show whether a house had been renovated in its history. The column was converted into 0 for \"not renovated\" and 1 for \"renovated\", and all null values were changed to zeroes because we assumed that if a house didn't have a value in that column, it was likely not a renovated house.\r\n",
    "\r\n",
    "We treated the null values in the column 'waterfront' in much the same way. If an entry didn't have a value in waterfront, it was assumed that it was not a waterfront property.\r\n",
    "\r\n",
    "We also created a column called 'age' that took yr_built and subtracted it from 2014 in order to determine the exact age of the house.\r\n",
    "\r\n",
    "A correlation matrix was also used to make sure that our columns were all related to one another in some way."
   ],
   "metadata": {}
  },
  {
   "cell_type": "code",
   "execution_count": null,
   "source": [
    "from geopy import distance\r\n",
    "\r\n",
    "lat_long = df['lat'].astype(str) + ',' + df['long'].astype(str)\r\n",
    "lat_long = list(map(eval, lat_long)) \r\n",
    "\r\n",
    "Seattle = (47.6062, -122.3321)\r\n",
    "miles = []\r\n",
    "for i in lat_long:\r\n",
    "    miles.append(round(distance.distance(i, Seattle).miles, 1))\r\n",
    "df['distance'] = miles"
   ],
   "outputs": [],
   "metadata": {}
  },
  {
   "cell_type": "code",
   "execution_count": null,
   "source": [
    "df=df[['price','sqft_living','bedrooms','bathrooms','floors','grade','condition','yr_built','yr_renovated','waterfront', 'distance']]\r\n",
    "df"
   ],
   "outputs": [],
   "metadata": {}
  },
  {
   "cell_type": "code",
   "execution_count": null,
   "source": [
    "df.isnull().sum()"
   ],
   "outputs": [],
   "metadata": {}
  },
  {
   "cell_type": "code",
   "execution_count": null,
   "source": [
    "df['waterfront'] = df['waterfront'].fillna(0)"
   ],
   "outputs": [],
   "metadata": {}
  },
  {
   "cell_type": "code",
   "execution_count": null,
   "source": [
    "df.isnull().sum()\r\n",
    "df['yr_renovated'] = df['yr_renovated'].fillna(0)\r\n",
    "df.isnull().sum()"
   ],
   "outputs": [],
   "metadata": {}
  },
  {
   "cell_type": "code",
   "execution_count": null,
   "source": [
    "df.rename(columns={'yr_renovated': 'renovated'}, inplace=True)\r\n",
    "df.info()"
   ],
   "outputs": [],
   "metadata": {}
  },
  {
   "cell_type": "code",
   "execution_count": null,
   "source": [
    "df['age'] = 2015 - df.yr_built\r\n",
    "df = df.drop(columns=['yr_built'], axis=1)"
   ],
   "outputs": [],
   "metadata": {}
  },
  {
   "cell_type": "code",
   "execution_count": null,
   "source": [
    "df.head()"
   ],
   "outputs": [],
   "metadata": {}
  },
  {
   "cell_type": "code",
   "execution_count": null,
   "source": [
    "renovated = df.renovated.values\r\n",
    "age = df.age.values\r\n",
    "values = np.where(renovated <= 10, 1, 0)\r\n",
    "df['renovated'] = np.where(age <= 5, 1, values)"
   ],
   "outputs": [],
   "metadata": {}
  },
  {
   "cell_type": "code",
   "execution_count": null,
   "source": [
    "value_counts_bed=df['bedrooms'].value_counts()\r\n",
    "to_remove = value_counts_bed[value_counts_bed <=50].index\r\n",
    "df = df[~df.bedrooms.isin(to_remove)]"
   ],
   "outputs": [],
   "metadata": {}
  },
  {
   "cell_type": "code",
   "execution_count": null,
   "source": [
    "value_counts_bath=df['bathrooms'].value_counts()\r\n",
    "to_remove_bath = value_counts_bath[value_counts_bath <=80].index\r\n",
    "df = df[~df.bathrooms.isin(to_remove_bath)]"
   ],
   "outputs": [],
   "metadata": {}
  },
  {
   "cell_type": "code",
   "execution_count": null,
   "source": [
    "value_counts_floors=df['floors'].value_counts()\r\n",
    "to_remove_floor = value_counts_floors[value_counts_floors <=10].index\r\n",
    "df = df[~df.floors.isin(to_remove_floor)]"
   ],
   "outputs": [],
   "metadata": {}
  },
  {
   "cell_type": "code",
   "execution_count": null,
   "source": [
    "df.head()"
   ],
   "outputs": [],
   "metadata": {}
  },
  {
   "cell_type": "code",
   "execution_count": null,
   "source": [
    "df.info()"
   ],
   "outputs": [],
   "metadata": {}
  },
  {
   "cell_type": "code",
   "execution_count": null,
   "source": [
    "df[['bedrooms', 'bathrooms', 'floors', 'age','renovated','grade','waterfront','sqft_living']].hist(figsize  = [6, 6]); "
   ],
   "outputs": [],
   "metadata": {}
  },
  {
   "cell_type": "code",
   "execution_count": null,
   "source": [
    "ax = sns.boxplot(x=\"price\", data=df)"
   ],
   "outputs": [],
   "metadata": {}
  },
  {
   "cell_type": "code",
   "execution_count": null,
   "source": [
    "plt.scatter(df['bedrooms'], df['price'], color='green')\r\n",
    "plt.title('Bedrooms and Price', fontsize=14)\r\n",
    "plt.xlabel('Number of Bedrooms', fontsize=14)\r\n",
    "plt.ylabel('House Price', fontsize=14)\r\n",
    "plt.grid(True)\r\n",
    "plt.show()"
   ],
   "outputs": [],
   "metadata": {}
  },
  {
   "cell_type": "code",
   "execution_count": null,
   "source": [
    "sns.jointplot(data=df, x=\"bedrooms\", y=\"price\", kind=\"reg\")"
   ],
   "outputs": [],
   "metadata": {}
  },
  {
   "cell_type": "code",
   "execution_count": null,
   "source": [
    "sns.jointplot(data=df, x=\"grade\", y=\"price\", kind=\"reg\")"
   ],
   "outputs": [],
   "metadata": {}
  },
  {
   "cell_type": "code",
   "execution_count": null,
   "source": [
    "sns.jointplot(data=df, x=\"bathrooms\", y=\"price\", kind=\"reg\")"
   ],
   "outputs": [],
   "metadata": {}
  },
  {
   "cell_type": "code",
   "execution_count": null,
   "source": [
    "sns.jointplot(data=df, x=\"floors\", y=\"price\", kind=\"reg\")"
   ],
   "outputs": [],
   "metadata": {}
  },
  {
   "cell_type": "code",
   "execution_count": null,
   "source": [
    "sns.jointplot(data=df, x=\"age\", y=\"price\", kind=\"reg\")"
   ],
   "outputs": [],
   "metadata": {}
  },
  {
   "cell_type": "code",
   "execution_count": null,
   "source": [
    "sns.jointplot(data=df, x=\"renovated\", y=\"price\", kind=\"reg\")"
   ],
   "outputs": [],
   "metadata": {}
  },
  {
   "cell_type": "code",
   "execution_count": null,
   "source": [
    "plt.scatter(df['bathrooms'], df['price'], color='blue')\r\n",
    "plt.title('Bathrooms and Price', fontsize=14)\r\n",
    "plt.xlabel('Number of Bathrooms', fontsize=14)\r\n",
    "plt.ylabel('House Price', fontsize=14)\r\n",
    "plt.grid(True)\r\n",
    "plt.show()"
   ],
   "outputs": [],
   "metadata": {}
  },
  {
   "cell_type": "code",
   "execution_count": null,
   "source": [
    "plt.scatter(df['floors'], df['price'], color='red')\r\n",
    "plt.title('Floors and Price', fontsize=14)\r\n",
    "plt.xlabel('Number of Floors', fontsize=14)\r\n",
    "plt.ylabel('House Price', fontsize=14)\r\n",
    "plt.grid(True)\r\n",
    "plt.show()"
   ],
   "outputs": [],
   "metadata": {}
  },
  {
   "cell_type": "code",
   "execution_count": null,
   "source": [
    "plt.scatter(df['age'], df['price'], color='orange')\r\n",
    "plt.title('House Age and Price', fontsize=14)\r\n",
    "plt.xlabel('Age', fontsize=14)\r\n",
    "plt.ylabel('House Price', fontsize=14)\r\n",
    "plt.grid(True)\r\n",
    "plt.show()"
   ],
   "outputs": [],
   "metadata": {}
  },
  {
   "cell_type": "code",
   "execution_count": null,
   "source": [
    "corr=df.corr()\r\n",
    "mask = np.triu(np.ones_like(corr, dtype=bool))\r\n",
    "f, ax = plt.subplots(figsize=(11, 9))\r\n",
    "cmap = sns.diverging_palette(230, 20, as_cmap=True)\r\n",
    "sns.heatmap(corr, mask=mask, cmap=cmap, vmax=.3, center=0,\r\n",
    "            square=True, linewidths=.5, cbar_kws={\"shrink\": .5})"
   ],
   "outputs": [],
   "metadata": {}
  },
  {
   "cell_type": "markdown",
   "source": [
    "## Model 1"
   ],
   "metadata": {}
  },
  {
   "cell_type": "markdown",
   "source": [
    "For our first model, we simply took the dataset and its columns and created the initial model based on the price of a house just to give us a starting point.\r\n",
    "\r\n",
    "The first model had an R-squared value of 0.692 with a Test RMSE of 185212.7798740588 and a Train RMSE of 183591.80606517757.\r\n",
    "\r\n",
    "Based on the QQ-plot and the distribution of the column 'price', we determined that there were significant outliers just in price that would need to be accounted for in our second model."
   ],
   "metadata": {}
  },
  {
   "cell_type": "code",
   "execution_count": null,
   "source": [
    "def tts_model(df):\r\n",
    "    y = df['price']\r\n",
    "    X = df.drop(columns=['price'], axis=1)\r\n",
    "    X_train, X_test, y_train, y_test = train_test_split(X, y, test_size=.20, random_state=123)\r\n",
    "    \r\n",
    "    linreg = LinearRegression()\r\n",
    "    model = linreg.fit(X_train, y_train)\r\n",
    "\r\n",
    "    train_predictions = model.predict(X_train)\r\n",
    "    test_predictions = model.predict(X_test)\r\n",
    "\r\n",
    "    mse_train = mean_squared_error(y_train, train_predictions)\r\n",
    "    mse_test = mean_squared_error(y_test, test_predictions)\r\n",
    "    \r\n",
    "    train_score = model.score(X_train, y_train)\r\n",
    "    test_score = model.score(X_test, y_test)\r\n",
    "\r\n",
    "    print('Test RMSE:', np.sqrt(mse_test))\r\n",
    "    print('Train RMSE:', np.sqrt(mse_train))\r\n",
    "    print('Training Score:', round(train_score, 2))\r\n",
    "    print('Test Score:', round(test_score, 2))\r\n",
    "    print('Coefficients:', model.coef_)\r\n",
    "\r\n",
    "    X_train = sm.add_constant(X_train)\r\n",
    "    smmodel = sm.OLS(y_train, X_train).fit()\r\n",
    "    print(smmodel.summary())\r\n",
    "    return smmodel"
   ],
   "outputs": [],
   "metadata": {}
  },
  {
   "cell_type": "code",
   "execution_count": null,
   "source": [
    "model = tts_model(df)"
   ],
   "outputs": [],
   "metadata": {}
  },
  {
   "cell_type": "code",
   "execution_count": null,
   "source": [
    "plt.figure(figsize=(12, 8))\r\n",
    "fig = sm.graphics.qqplot(model.resid, dist=stats.norm, line='45', fit=True)\r\n",
    "plt.title('QQ Plot')\r\n",
    "plt.tight_layout()"
   ],
   "outputs": [],
   "metadata": {}
  },
  {
   "cell_type": "code",
   "execution_count": null,
   "source": [
    "plt.figure(figsize=(12, 8))\r\n",
    "sns.distplot(df.price)\r\n",
    "plt.title('Price Distribution')\r\n",
    "plt.tight_layout()"
   ],
   "outputs": [],
   "metadata": {}
  },
  {
   "cell_type": "markdown",
   "source": [
    "## Model 2 (Normalizing Price)"
   ],
   "metadata": {}
  },
  {
   "cell_type": "markdown",
   "source": [
    "Our second model was created just to remove outliers in price. A figure of $1,000,000 was chosen as the maximum price of a house to limit the prediction model to what we consider to be an affordable cost. It also gave the data in price a much more normalized distribution.\r\n",
    "\r\n",
    "The R-squared value dropped to 0.636, but we saw a significant improvement in our Test RMSE (Root Mean Square Error) and our Train RMSE."
   ],
   "metadata": {}
  },
  {
   "cell_type": "code",
   "execution_count": null,
   "source": [
    "df = df[df['price'] <= 1000001]"
   ],
   "outputs": [],
   "metadata": {}
  },
  {
   "cell_type": "code",
   "execution_count": null,
   "source": [
    "plt.figure(figsize=(12, 8))\r\n",
    "sns.distplot(df.price)\r\n",
    "plt.title('Price Distribution')\r\n",
    "plt.tight_layout()"
   ],
   "outputs": [],
   "metadata": {}
  },
  {
   "cell_type": "code",
   "execution_count": null,
   "source": [
    "ax = sns.boxplot(x=\"price\", data=df)"
   ],
   "outputs": [],
   "metadata": {}
  },
  {
   "cell_type": "code",
   "execution_count": null,
   "source": [
    "df.info()"
   ],
   "outputs": [],
   "metadata": {}
  },
  {
   "cell_type": "code",
   "execution_count": null,
   "source": [
    "model = tts_model(df)"
   ],
   "outputs": [],
   "metadata": {}
  },
  {
   "cell_type": "code",
   "execution_count": null,
   "source": [
    "fig = sm.graphics.qqplot(model.resid, dist=stats.norm, line='45', fit=True)\r\n",
    "plt.title('QQ Plot')\r\n",
    "plt.show()"
   ],
   "outputs": [],
   "metadata": {}
  },
  {
   "cell_type": "markdown",
   "source": [
    "## Model 3 (Multicollinearity)"
   ],
   "metadata": {}
  },
  {
   "cell_type": "markdown",
   "source": [
    "Our third model took multicollinearity into account. Looking at correlation pairs, the only strong correlation between two independent variables was between sqft_living and bathrooms. But because none of the variance inflation factors were higher than 3.3, multicollinearity didn't appear to be a real issue in this model."
   ],
   "metadata": {}
  },
  {
   "cell_type": "code",
   "execution_count": null,
   "source": [
    "X = df.drop(columns=['price'], axis=1)\r\n",
    "plt.figure(figsize=(14, 10))\r\n",
    "sns.heatmap(X.corr(), center=0)\r\n",
    "plt.tight_layout()\r\n",
    "plt.show()"
   ],
   "outputs": [],
   "metadata": {}
  },
  {
   "cell_type": "code",
   "execution_count": null,
   "source": [
    "abs(X.corr()) >= .7"
   ],
   "outputs": [],
   "metadata": {}
  },
  {
   "cell_type": "code",
   "execution_count": null,
   "source": [
    "corr_df = X.corr().abs().stack().reset_index().sort_values(0, ascending=False)\r\n",
    "\r\n",
    "# Zip the variable name columns in a  column named \"pairs\"\r\n",
    "corr_df['pairs'] = list(zip(corr_df.level_0, corr_df.level_1))\r\n",
    "\r\n",
    "# Set index to pairs\r\n",
    "corr_df.set_index(['pairs'], inplace = True)\r\n",
    "\r\n",
    "# Drop level columns\r\n",
    "corr_df.drop(columns=['level_1', 'level_0'], inplace = True)\r\n",
    "\r\n",
    "# Rename correlation column to cc\r\n",
    "corr_df.columns = ['cc']\r\n",
    "\r\n",
    "# Drop duplicates\r\n",
    "corr_df.drop_duplicates(inplace=True)"
   ],
   "outputs": [],
   "metadata": {}
  },
  {
   "cell_type": "code",
   "execution_count": null,
   "source": [
    "corr_df[(corr_df.cc>.70) & (corr_df.cc <1)]"
   ],
   "outputs": [],
   "metadata": {}
  },
  {
   "cell_type": "code",
   "execution_count": null,
   "source": [
    "X = sm.add_constant(X)\r\n",
    "vif = [variance_inflation_factor(X.values, i) for i in range(X.shape[1])]\r\n",
    "vif_dict = dict(zip(X.columns, vif))\r\n",
    "vif_dict"
   ],
   "outputs": [],
   "metadata": {}
  },
  {
   "cell_type": "code",
   "execution_count": null,
   "source": [
    "tts_model(df)"
   ],
   "outputs": [],
   "metadata": {}
  },
  {
   "cell_type": "markdown",
   "source": [
    "## Model 4 (Removing Insignificant Features)"
   ],
   "metadata": {}
  },
  {
   "cell_type": "markdown",
   "source": [
    "Based on the p-values in our model, no feature was considered statistically insignificant. However, we decided to drop 'renovated' from our model just to see if it improved the accuracy of our model.\r\n",
    "\r\n",
    "Removing 'renovated' did improve the Test RMSE and the Train RMSE slightly, although the R-squared value did decrease."
   ],
   "metadata": {}
  },
  {
   "cell_type": "code",
   "execution_count": null,
   "source": [
    "df = df.drop(columns=['renovated'], axis=1)"
   ],
   "outputs": [],
   "metadata": {}
  },
  {
   "cell_type": "code",
   "execution_count": null,
   "source": [
    "tts_model(df)"
   ],
   "outputs": [],
   "metadata": {}
  },
  {
   "cell_type": "code",
   "execution_count": null,
   "source": [
    "fig = sm.graphics.qqplot(model.resid, dist=stats.norm, line='45', fit=True)\r\n",
    "plt.title('QQ Plot')\r\n",
    "plt.show()"
   ],
   "outputs": [],
   "metadata": {}
  },
  {
   "cell_type": "markdown",
   "source": [
    "## Model 5: Adjusting for Outliers"
   ],
   "metadata": {}
  },
  {
   "cell_type": "markdown",
   "source": [
    "For Model 5, we wanted to look at outliers in the multiple independent variables to see if that was affecting our model in some way.\r\n",
    "\r\n",
    "Through looking at multiple graphs, the biggest outliers were in 'sqft_living', 'bathrooms', and 'floors'.\r\n",
    "\r\n",
    "Based on those graphs, we decided to limit our model to evaluating houses that were less that 5,000 square feet, had fewer that 4 bathrooms, and had 3 floors or less.\r\n",
    "\r\n",
    "Refining the model in this way, our RMSE actually increased and our R-squared increased to 0.636. \r\n",
    "\r\n",
    "However, the difference between our Train RMSE and Test RMSE narrowed from previous models, and a higher Test RMSE suggests that the data in our model might be slightly overfitted."
   ],
   "metadata": {}
  },
  {
   "cell_type": "code",
   "execution_count": null,
   "source": [
    "#View distribution plots for all columns\r\n",
    "for col in df.columns:\r\n",
    "    plt.subplots(1, 1)\r\n",
    "    sns.distplot(df[col])"
   ],
   "outputs": [],
   "metadata": {}
  },
  {
   "cell_type": "code",
   "execution_count": null,
   "source": [
    "df = df[df['sqft_living'] < 5000]\r\n",
    "df = df[df['bathrooms'] < 4.0]\r\n",
    "df = df[df['floors'] < 3.5]"
   ],
   "outputs": [],
   "metadata": {}
  },
  {
   "cell_type": "code",
   "execution_count": null,
   "source": [
    "tts_model(df)"
   ],
   "outputs": [],
   "metadata": {}
  },
  {
   "cell_type": "code",
   "execution_count": null,
   "source": [
    "fig = sm.graphics.qqplot(model.resid, dist=stats.norm, line='45', fit=True)\r\n",
    "plt.title('QQ Plot')\r\n",
    "plt.show()"
   ],
   "outputs": [],
   "metadata": {}
  },
  {
   "cell_type": "markdown",
   "source": [
    "## Homoscedascity"
   ],
   "metadata": {}
  },
  {
   "cell_type": "markdown",
   "source": [
    "Model 5 became our final model, so we did a quick check for homoscedascity. With the exception of a few outliers, our residuals are relatively homoscedastic."
   ],
   "metadata": {}
  },
  {
   "cell_type": "code",
   "execution_count": null,
   "source": [
    "y = df['price']\r\n",
    "X = df.drop(columns=['price'], axis=1)\r\n",
    "X_train, X_test, y_train, y_test = train_test_split(X, y, test_size=.20, random_state=123)\r\n",
    "    \r\n",
    "linreg = LinearRegression()\r\n",
    "model = linreg.fit(X_train, y_train)\r\n",
    "\r\n",
    "train_predictions = model.predict(X_train)\r\n",
    "test_predictions = model.predict(X_test)\r\n",
    "\r\n",
    "mse_train = mean_squared_error(y_train, train_predictions)\r\n",
    "mse_test = mean_squared_error(y_test, test_predictions)\r\n",
    "    \r\n",
    "train_score = model.score(X_train, y_train)\r\n",
    "test_score = model.score(X_test, y_test)\r\n",
    "\r\n",
    "print('Test RMSE:', np.sqrt(mse_test))\r\n",
    "print('Train RMSE:', np.sqrt(mse_train))\r\n",
    "print('Training Score:', round(train_score, 2))\r\n",
    "print('Test Score:', round(test_score, 2))\r\n",
    "print('Coefficients:', model.coef_)\r\n",
    "\r\n",
    "X_train = sm.add_constant(X_train)\r\n",
    "smmodel = sm.OLS(y_train, X_train).fit()\r\n",
    "print(smmodel.summary())"
   ],
   "outputs": [],
   "metadata": {}
  },
  {
   "cell_type": "code",
   "execution_count": null,
   "source": [
    "plt.scatter(train_predictions, smmodel.resid)"
   ],
   "outputs": [],
   "metadata": {}
  },
  {
   "cell_type": "markdown",
   "source": [
    "## Plots"
   ],
   "metadata": {}
  },
  {
   "cell_type": "code",
   "execution_count": null,
   "source": [
    "plt.figure(figsize=(12, 8))\r\n",
    "sns.barplot(df['distance'], df['price'])\r\n",
    "plt.title('Price vs. Distance', fontsize=16)\r\n",
    "plt.xlabel('Distance')\r\n",
    "plt.ylabel('Price')\r\n",
    "plt.tight_layout()\r\n",
    "plt.show()"
   ],
   "outputs": [],
   "metadata": {}
  },
  {
   "cell_type": "code",
   "execution_count": null,
   "source": [
    "plt.figure(figsize=(12, 8))\r\n",
    "sns.boxplot(df.grade, df.age)\r\n",
    "plt.title('Building Grade vs. Age of Home', fontsize=16)\r\n",
    "plt.xlabel('Grade')\r\n",
    "plt.ylabel('Age')\r\n",
    "plt.tight_layout()\r\n",
    "plt.show()"
   ],
   "outputs": [],
   "metadata": {}
  },
  {
   "cell_type": "code",
   "execution_count": null,
   "source": [
    "plt.figure(figsize=(12, 8))\r\n",
    "sns.boxplot(df.grade, df.price)\r\n",
    "plt.title('Building Grade vs. Sale Price', fontsize=16)\r\n",
    "plt.xlabel('Grade')\r\n",
    "plt.ylabel('Price')\r\n",
    "plt.tight_layout()\r\n",
    "plt.show()"
   ],
   "outputs": [],
   "metadata": {}
  },
  {
   "cell_type": "code",
   "execution_count": null,
   "source": [
    "bedrooms_1_5 = df.loc[(df['distance'] <= 5) & (df['bedrooms'] < 2)]\r\n",
    "bedrooms_2_5 = df.loc[(df['distance'] <= 5) & (df['bedrooms'] >= 2) & (df['bedrooms'] < 3)]\r\n",
    "bedrooms_3_5 = df.loc[(df['distance'] <= 5) & (df['bedrooms'] >= 3) & (df['bedrooms'] < 4)]\r\n",
    "bedrooms_4_5 = df.loc[(df['distance'] <= 5) & (df['bedrooms'] == 4)]"
   ],
   "outputs": [],
   "metadata": {}
  },
  {
   "cell_type": "code",
   "execution_count": null,
   "source": [
    "bedrooms_1 = df.loc[(df['distance'] > 5) & (df['bedrooms'] < 2)]\r\n",
    "bedrooms_2 = df.loc[(df['distance'] > 5) & (df['bedrooms'] >= 2) & (df['bedrooms'] < 3)]\r\n",
    "bedrooms_3 = df.loc[(df['distance'] > 5) & (df['bedrooms'] >= 3) & (df['bedrooms'] < 4)]\r\n",
    "bedrooms_4 = df.loc[(df['distance'] > 5) & (df['bedrooms'] == 4)]"
   ],
   "outputs": [],
   "metadata": {}
  },
  {
   "cell_type": "code",
   "execution_count": null,
   "source": [
    "names = ['1 Bedroom Houses', '2 Bedroom Houses', '3 Bedroom Houses', '4 Bedroom Houses']\r\n",
    "medians_5 = [bedrooms_1_5.price.median(), bedrooms_2_5.price.median(), bedrooms_3_5.price.median(), bedrooms_4_5.price.median()]\r\n",
    "medians = [bedrooms_1.price.median(), bedrooms_2.price.median(), bedrooms_3.price.median(), bedrooms_4.price.median()]"
   ],
   "outputs": [],
   "metadata": {}
  },
  {
   "cell_type": "code",
   "execution_count": null,
   "source": [
    "sns.set_palette('Reds_r')\r\n",
    "plt.figure(figsize=(13, 6))\r\n",
    "plt.subplot(1, 2, 1)\r\n",
    "sns.barplot(medians_5, names)\r\n",
    "for i in range(len(medians_5)):\r\n",
    "    plt.text(x= (medians_5[i]/2) - 50000, y=i, s=int(medians_5[i]), c='white', fontsize=14)\r\n",
    "plt.title('Less Than 5 Miles to Downtown', fontsize=16)\r\n",
    "plt.xlabel('Price')\r\n",
    "plt.yticks(fontsize=14)\r\n",
    "\r\n",
    "plt.subplot(1, 2, 2)\r\n",
    "for i in range(len(medians)):\r\n",
    "    plt.text(x= (medians[i]/2) - 50000, y=i, s=int(medians[i]), c='white', fontsize=14)\r\n",
    "sns.barplot(medians, names)\r\n",
    "plt.title('More Than 5 Miles from Downtown', fontsize=16)\r\n",
    "plt.xlabel('Price')\r\n",
    "plt.yticks(fontsize=14)\r\n",
    "plt.subplots_adjust(wspace=0.4)\r\n",
    "plt.tight_layout()\r\n",
    "plt.show()"
   ],
   "outputs": [],
   "metadata": {}
  },
  {
   "cell_type": "code",
   "execution_count": null,
   "source": [
    "sqft_under1250_5 = df.loc[(df['distance'] <= 5) & (df['sqft_living'] < 1250)]\r\n",
    "sqft_under2500_5 = df.loc[(df['distance'] <= 5) & (df['sqft_living'] >= 1250) & (df['sqft_living'] < 2500)]\r\n",
    "sqft_under3750_5 = df.loc[(df['distance'] <= 5) & (df['sqft_living'] >= 2500) & (df['sqft_living'] < 3750)]\r\n",
    "sqft_under5000_5 = df.loc[(df['distance'] <= 5) & (df['sqft_living'] >= 3750) & (df['sqft_living'] <= 5000)] "
   ],
   "outputs": [],
   "metadata": {}
  },
  {
   "cell_type": "code",
   "execution_count": null,
   "source": [
    "sqft_under1250 = df.loc[(df['distance'] > 5) & (df['sqft_living'] < 1250)]\r\n",
    "sqft_under2500 = df.loc[(df['distance'] > 5) & (df['sqft_living'] >= 1250) & (df['sqft_living'] < 2500)]\r\n",
    "sqft_under3750 = df.loc[(df['distance'] > 5) & (df['sqft_living'] >= 2500) & (df['sqft_living'] < 3750)]\r\n",
    "sqft_under5000 = df.loc[(df['distance'] > 5) & (df['sqft_living'] >= 3750) & (df['sqft_living'] <= 5000)] "
   ],
   "outputs": [],
   "metadata": {}
  },
  {
   "cell_type": "code",
   "execution_count": null,
   "source": [
    "names = ['Under 1250 Square Feet', 'Under 2500 Square Feet', 'Under 3250 Square Feet', 'Under 5000 Square Feet']\r\n",
    "sqft_medians_5 = [sqft_under1250_5.price.median(), sqft_under2500_5.price.median(), sqft_under3750_5.price.median(), sqft_under5000_5.price.median()]\r\n",
    "sqft_medians = [sqft_under1250.price.median(), sqft_under2500.price.median(), sqft_under3750.price.median(), sqft_under5000.price.median()]"
   ],
   "outputs": [],
   "metadata": {}
  },
  {
   "cell_type": "code",
   "execution_count": null,
   "source": [
    "sns.set_palette('Reds_r')\r\n",
    "plt.figure(figsize=(13, 6))\r\n",
    "plt.subplot(1, 2, 1)\r\n",
    "sns.barplot(sqft_medians_5, names)\r\n",
    "for i in range(len(sqft_medians_5)):\r\n",
    "    plt.text(x= (sqft_medians_5[i]/2) - 50000, y=i, s=int(sqft_medians_5[i]), c='white', fontsize=14)\r\n",
    "plt.title('Less Than 5 Miles to Downtown', fontsize=16)\r\n",
    "plt.xlabel('Price')\r\n",
    "plt.yticks(fontsize=14)\r\n",
    "\r\n",
    "plt.subplot(1, 2, 2)\r\n",
    "for i in range(len(sqft_medians)):\r\n",
    "    plt.text(x= (sqft_medians[i]/2) - 50000, y=i, s=int(sqft_medians[i]), c='white', fontsize=14)\r\n",
    "sns.barplot(sqft_medians, names)\r\n",
    "plt.title('More Than 5 Miles from Downtown', fontsize=16)\r\n",
    "plt.xlabel('Square Feet')\r\n",
    "plt.yticks(fontsize=14)\r\n",
    "plt.subplots_adjust(wspace=0.4)\r\n",
    "plt.tight_layout()\r\n",
    "plt.show()"
   ],
   "outputs": [],
   "metadata": {}
  },
  {
   "cell_type": "code",
   "execution_count": null,
   "source": [
    "plt.figure(figsize=(12, 8))\r\n",
    "sns.boxplot(df.bathrooms, df.price)\r\n",
    "plt.title('Bathrooms vs. Sale Price', fontsize=16)\r\n",
    "plt.xlabel('Bathrooms')\r\n",
    "plt.ylabel('Price')\r\n",
    "plt.tight_layout()\r\n",
    "plt.show()"
   ],
   "outputs": [],
   "metadata": {}
  },
  {
   "cell_type": "markdown",
   "source": [
    "### Final Conclusions"
   ],
   "metadata": {}
  },
  {
   "cell_type": "markdown",
   "source": [
    "* Location is everything. Houses that are located closer to downtown are generally more expensive than houses that are located outside of downtown.\r\n",
    "\r\n",
    "* If you're on a budget and looking to buy a small house, a house outside of the city should be cheaper than one inside the city.\r\n",
    "\r\n",
    "* Larger family homes also might be cheaper outside of the city. However, it appears that some of the data on the cost of larger houses might be affected by some houses that are listed as waterfront property.\r\n",
    "\r\n",
    "* Generally speaking, the age of a home also affects its price. According to the King County Assessor's grading system, older homes tend to have lower grades compared to newer ones. Building grade also affects price, as the higher the building grade, the higher the price.\r\n",
    "\r\n",
    "* Bathrooms also tend to affect the cost of a house. Houses with more bathrooms tend to be priced higher than houses with fewer bathrooms."
   ],
   "metadata": {}
  },
  {
   "cell_type": "markdown",
   "source": [
    "## Recommendations\r\n",
    "\r\n",
    "* Linear regression doesn't appear to be the best method of predicting housing prices with great accuracy. An error of over $100,000 in price and some outliers in the residuals seems to show that. Other types of models should be considered in order to see if a different type of model might be more accurate."
   ],
   "metadata": {}
  },
  {
   "cell_type": "markdown",
   "source": [],
   "metadata": {}
  }
 ],
 "metadata": {
  "interpreter": {
   "hash": "89604f32a09a23093b8c29c6d78b3ad49d7a5901c07f2c5c9e08432c33627854"
  },
  "kernelspec": {
   "display_name": "Python 3",
   "language": "python",
   "name": "python3"
  },
  "language_info": {
   "codemirror_mode": {
    "name": "ipython",
    "version": 3
   },
   "file_extension": ".py",
   "mimetype": "text/x-python",
   "name": "python",
   "nbconvert_exporter": "python",
   "pygments_lexer": "ipython3",
   "version": "3.8.5"
  }
 },
 "nbformat": 4,
 "nbformat_minor": 2
}